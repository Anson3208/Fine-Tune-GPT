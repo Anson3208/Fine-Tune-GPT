{
  "cells": [
    {
      "cell_type": "markdown",
      "metadata": {
        "id": "view-in-github",
        "colab_type": "text"
      },
      "source": [
        "<a href=\"https://colab.research.google.com/github/Anson3208/Fine-Tune-GPT/blob/main/Fine_tune_GPT_deployment.ipynb\" target=\"_parent\"><img src=\"https://colab.research.google.com/assets/colab-badge.svg\" alt=\"Open In Colab\"/></a>"
      ]
    },
    {
      "cell_type": "markdown",
      "source": [
        "## Deployment of fine-tune model"
      ],
      "metadata": {
        "id": "w_B3_I7Bk-7v"
      }
    },
    {
      "cell_type": "markdown",
      "source": [
        "The fine-tune model will be deployed in Google Cloud. \n",
        "\n",
        "Given that the primary focus of the project is GPT fine-tuning, the web development aspect involving HTML and CSS will be implemented with minimal refinement and simplicity."
      ],
      "metadata": {
        "id": "8QPI4ofDmDll"
      }
    },
    {
      "cell_type": "markdown",
      "source": [
        "# Google Cloud setup"
      ],
      "metadata": {
        "id": "hoRVIqtum24_"
      }
    },
    {
      "cell_type": "markdown",
      "source": [
        "The code performs Google Cloud authentication and sets the project configuration for deployment."
      ],
      "metadata": {
        "id": "zXBLs9Psnaca"
      }
    },
    {
      "cell_type": "code",
      "execution_count": 1,
      "metadata": {
        "id": "T2vzVPPcmvMF",
        "colab": {
          "base_uri": "https://localhost:8080/"
        },
        "outputId": "9e1e6a90-0f05-4abb-854b-fe5be7b0d0cc"
      },
      "outputs": [
        {
          "output_type": "stream",
          "name": "stdout",
          "text": [
            "Go to the following link in your browser:\n",
            "\n",
            "    https://accounts.google.com/o/oauth2/auth?response_type=code&client_id=32555940559.apps.googleusercontent.com&redirect_uri=https%3A%2F%2Fsdk.cloud.google.com%2Fauthcode.html&scope=openid+https%3A%2F%2Fwww.googleapis.com%2Fauth%2Fuserinfo.email+https%3A%2F%2Fwww.googleapis.com%2Fauth%2Fcloud-platform+https%3A%2F%2Fwww.googleapis.com%2Fauth%2Fappengine.admin+https%3A%2F%2Fwww.googleapis.com%2Fauth%2Fsqlservice.login+https%3A%2F%2Fwww.googleapis.com%2Fauth%2Fcompute+https%3A%2F%2Fwww.googleapis.com%2Fauth%2Faccounts.reauth&state=4m2aOUQfsp0Z27rmiB1RbPgAaoAcnR&prompt=consent&access_type=offline&code_challenge=Sx4-1bg9GdoWoOoyJBPavW9Fr-6hxSBGkRJGNTN5dZE&code_challenge_method=S256\n",
            "\n",
            "Enter authorization code: 4/0AbUR2VMX_6JTfunWWJkwO1co_uMVayZdG8ucuFBuZjfTUMvZ0p2aC4HIRpq7rsFCxQ36nQ\n",
            "\n",
            "You are now logged in as [ansonchan3208@gmail.com].\n",
            "Your current project is [None].  You can change this setting by running:\n",
            "  $ gcloud config set project PROJECT_ID\n"
          ]
        }
      ],
      "source": [
        "!gcloud auth login"
      ]
    },
    {
      "cell_type": "code",
      "execution_count": 2,
      "metadata": {
        "colab": {
          "base_uri": "https://localhost:8080/"
        },
        "id": "tEiEa2fjlAKu",
        "outputId": "613696ed-da8a-45ed-9e60-fe5d6b94ea18"
      },
      "outputs": [
        {
          "output_type": "stream",
          "name": "stdout",
          "text": [
            "Updated property [core/project].\n"
          ]
        }
      ],
      "source": [
        "!gcloud config set project my-project-anson-382915"
      ]
    },
    {
      "cell_type": "code",
      "execution_count": 3,
      "metadata": {
        "id": "4RT5q27kleSU"
      },
      "outputs": [],
      "source": [
        "!mkdir finetunegpt"
      ]
    },
    {
      "cell_type": "code",
      "execution_count": 4,
      "metadata": {
        "id": "Eggkbr3LrRTL",
        "colab": {
          "base_uri": "https://localhost:8080/",
          "height": 73
        },
        "outputId": "ff3df062-c24f-4cd7-e375-643a734db4c8"
      },
      "outputs": [
        {
          "output_type": "display_data",
          "data": {
            "text/plain": [
              "<IPython.core.display.HTML object>"
            ],
            "text/html": [
              "\n",
              "     <input type=\"file\" id=\"files-bcdee362-f2ea-4768-9d42-3ba225254e91\" name=\"files[]\" multiple disabled\n",
              "        style=\"border:none\" />\n",
              "     <output id=\"result-bcdee362-f2ea-4768-9d42-3ba225254e91\">\n",
              "      Upload widget is only available when the cell has been executed in the\n",
              "      current browser session. Please rerun this cell to enable.\n",
              "      </output>\n",
              "      <script>// Copyright 2017 Google LLC\n",
              "//\n",
              "// Licensed under the Apache License, Version 2.0 (the \"License\");\n",
              "// you may not use this file except in compliance with the License.\n",
              "// You may obtain a copy of the License at\n",
              "//\n",
              "//      http://www.apache.org/licenses/LICENSE-2.0\n",
              "//\n",
              "// Unless required by applicable law or agreed to in writing, software\n",
              "// distributed under the License is distributed on an \"AS IS\" BASIS,\n",
              "// WITHOUT WARRANTIES OR CONDITIONS OF ANY KIND, either express or implied.\n",
              "// See the License for the specific language governing permissions and\n",
              "// limitations under the License.\n",
              "\n",
              "/**\n",
              " * @fileoverview Helpers for google.colab Python module.\n",
              " */\n",
              "(function(scope) {\n",
              "function span(text, styleAttributes = {}) {\n",
              "  const element = document.createElement('span');\n",
              "  element.textContent = text;\n",
              "  for (const key of Object.keys(styleAttributes)) {\n",
              "    element.style[key] = styleAttributes[key];\n",
              "  }\n",
              "  return element;\n",
              "}\n",
              "\n",
              "// Max number of bytes which will be uploaded at a time.\n",
              "const MAX_PAYLOAD_SIZE = 100 * 1024;\n",
              "\n",
              "function _uploadFiles(inputId, outputId) {\n",
              "  const steps = uploadFilesStep(inputId, outputId);\n",
              "  const outputElement = document.getElementById(outputId);\n",
              "  // Cache steps on the outputElement to make it available for the next call\n",
              "  // to uploadFilesContinue from Python.\n",
              "  outputElement.steps = steps;\n",
              "\n",
              "  return _uploadFilesContinue(outputId);\n",
              "}\n",
              "\n",
              "// This is roughly an async generator (not supported in the browser yet),\n",
              "// where there are multiple asynchronous steps and the Python side is going\n",
              "// to poll for completion of each step.\n",
              "// This uses a Promise to block the python side on completion of each step,\n",
              "// then passes the result of the previous step as the input to the next step.\n",
              "function _uploadFilesContinue(outputId) {\n",
              "  const outputElement = document.getElementById(outputId);\n",
              "  const steps = outputElement.steps;\n",
              "\n",
              "  const next = steps.next(outputElement.lastPromiseValue);\n",
              "  return Promise.resolve(next.value.promise).then((value) => {\n",
              "    // Cache the last promise value to make it available to the next\n",
              "    // step of the generator.\n",
              "    outputElement.lastPromiseValue = value;\n",
              "    return next.value.response;\n",
              "  });\n",
              "}\n",
              "\n",
              "/**\n",
              " * Generator function which is called between each async step of the upload\n",
              " * process.\n",
              " * @param {string} inputId Element ID of the input file picker element.\n",
              " * @param {string} outputId Element ID of the output display.\n",
              " * @return {!Iterable<!Object>} Iterable of next steps.\n",
              " */\n",
              "function* uploadFilesStep(inputId, outputId) {\n",
              "  const inputElement = document.getElementById(inputId);\n",
              "  inputElement.disabled = false;\n",
              "\n",
              "  const outputElement = document.getElementById(outputId);\n",
              "  outputElement.innerHTML = '';\n",
              "\n",
              "  const pickedPromise = new Promise((resolve) => {\n",
              "    inputElement.addEventListener('change', (e) => {\n",
              "      resolve(e.target.files);\n",
              "    });\n",
              "  });\n",
              "\n",
              "  const cancel = document.createElement('button');\n",
              "  inputElement.parentElement.appendChild(cancel);\n",
              "  cancel.textContent = 'Cancel upload';\n",
              "  const cancelPromise = new Promise((resolve) => {\n",
              "    cancel.onclick = () => {\n",
              "      resolve(null);\n",
              "    };\n",
              "  });\n",
              "\n",
              "  // Wait for the user to pick the files.\n",
              "  const files = yield {\n",
              "    promise: Promise.race([pickedPromise, cancelPromise]),\n",
              "    response: {\n",
              "      action: 'starting',\n",
              "    }\n",
              "  };\n",
              "\n",
              "  cancel.remove();\n",
              "\n",
              "  // Disable the input element since further picks are not allowed.\n",
              "  inputElement.disabled = true;\n",
              "\n",
              "  if (!files) {\n",
              "    return {\n",
              "      response: {\n",
              "        action: 'complete',\n",
              "      }\n",
              "    };\n",
              "  }\n",
              "\n",
              "  for (const file of files) {\n",
              "    const li = document.createElement('li');\n",
              "    li.append(span(file.name, {fontWeight: 'bold'}));\n",
              "    li.append(span(\n",
              "        `(${file.type || 'n/a'}) - ${file.size} bytes, ` +\n",
              "        `last modified: ${\n",
              "            file.lastModifiedDate ? file.lastModifiedDate.toLocaleDateString() :\n",
              "                                    'n/a'} - `));\n",
              "    const percent = span('0% done');\n",
              "    li.appendChild(percent);\n",
              "\n",
              "    outputElement.appendChild(li);\n",
              "\n",
              "    const fileDataPromise = new Promise((resolve) => {\n",
              "      const reader = new FileReader();\n",
              "      reader.onload = (e) => {\n",
              "        resolve(e.target.result);\n",
              "      };\n",
              "      reader.readAsArrayBuffer(file);\n",
              "    });\n",
              "    // Wait for the data to be ready.\n",
              "    let fileData = yield {\n",
              "      promise: fileDataPromise,\n",
              "      response: {\n",
              "        action: 'continue',\n",
              "      }\n",
              "    };\n",
              "\n",
              "    // Use a chunked sending to avoid message size limits. See b/62115660.\n",
              "    let position = 0;\n",
              "    do {\n",
              "      const length = Math.min(fileData.byteLength - position, MAX_PAYLOAD_SIZE);\n",
              "      const chunk = new Uint8Array(fileData, position, length);\n",
              "      position += length;\n",
              "\n",
              "      const base64 = btoa(String.fromCharCode.apply(null, chunk));\n",
              "      yield {\n",
              "        response: {\n",
              "          action: 'append',\n",
              "          file: file.name,\n",
              "          data: base64,\n",
              "        },\n",
              "      };\n",
              "\n",
              "      let percentDone = fileData.byteLength === 0 ?\n",
              "          100 :\n",
              "          Math.round((position / fileData.byteLength) * 100);\n",
              "      percent.textContent = `${percentDone}% done`;\n",
              "\n",
              "    } while (position < fileData.byteLength);\n",
              "  }\n",
              "\n",
              "  // All done.\n",
              "  yield {\n",
              "    response: {\n",
              "      action: 'complete',\n",
              "    }\n",
              "  };\n",
              "}\n",
              "\n",
              "scope.google = scope.google || {};\n",
              "scope.google.colab = scope.google.colab || {};\n",
              "scope.google.colab._files = {\n",
              "  _uploadFiles,\n",
              "  _uploadFilesContinue,\n",
              "};\n",
              "})(self);\n",
              "</script> "
            ]
          },
          "metadata": {}
        },
        {
          "output_type": "stream",
          "name": "stdout",
          "text": [
            "Saving api_key.txt to api_key.txt\n"
          ]
        }
      ],
      "source": [
        "from google.colab import files\n",
        "uploaded_files = files.upload()"
      ]
    },
    {
      "cell_type": "markdown",
      "source": [
        "# Creating the Fine-tune GPT Docker Container"
      ],
      "metadata": {
        "id": "kpoG8Ia5nJX1"
      }
    },
    {
      "cell_type": "markdown",
      "source": [
        "The code creates a Dockerfile and sets up the necessary configurations for the Fine-tune GPT model."
      ],
      "metadata": {
        "id": "dxlmACGUnOrO"
      }
    },
    {
      "cell_type": "code",
      "execution_count": 5,
      "metadata": {
        "id": "6352gE4Irich"
      },
      "outputs": [],
      "source": [
        "!mv api_key.txt finetunegpt      # move apikey into finetunegpt folder"
      ]
    },
    {
      "cell_type": "code",
      "execution_count": 6,
      "metadata": {
        "id": "KzvvgsZjl715"
      },
      "outputs": [],
      "source": [
        "with open('finetunegpt/Dockerfile','w') as f:\n",
        "  f.write('''\n",
        "# Use the official lightweight Python image.\n",
        "# https://hub.docker.com/_/python\n",
        "FROM python:3.10-slim\n",
        "\n",
        "# Allow statements and log messages to immediately appear in the Knative logs\n",
        "ENV PYTHONUNBUFFERED True\n",
        "\n",
        "# Copy local code to the container image.\n",
        "ENV APP_HOME /app\n",
        "WORKDIR $APP_HOME\n",
        "COPY . ./\n",
        "\n",
        "# Install production dependencies.\n",
        "RUN pip install --no-cache-dir -r requirements.txt\n",
        "\n",
        "# Run the web service on container startup. Here we use the gunicorn\n",
        "# webserver, with one worker process and 8 threads.\n",
        "# For environments with multiple CPU cores, increase the number of workers\n",
        "# to be equal to the cores available.\n",
        "# Timeout is set to 0 to disable the timeouts of the workers to allow Cloud Run to handle instance scaling.\n",
        "CMD exec gunicorn --bind :$PORT --workers 1 --threads 8 --timeout 0 main:app\n",
        "  ''')"
      ]
    },
    {
      "cell_type": "code",
      "execution_count": 7,
      "metadata": {
        "id": "nSQ4TYummE9O"
      },
      "outputs": [],
      "source": [
        "with open('finetunegpt/.dockerignore','w') as f:\n",
        "  f.write('''\n",
        "Dockerfile\n",
        "README.md\n",
        "*.pyc\n",
        "*.pyo\n",
        "*.pyd\n",
        "__pycache__\n",
        ".pytest_cache\n",
        "  ''')"
      ]
    },
    {
      "cell_type": "code",
      "execution_count": 8,
      "metadata": {
        "id": "qMpT2omnl2AJ"
      },
      "outputs": [],
      "source": [
        "with open('finetunegpt/requirements.txt','w') as f:\n",
        "  f.write('''\n",
        "Flask==2.1.0\n",
        "gunicorn==20.1.0\n",
        "openai==0.27.4\n",
        "  ''')"
      ]
    },
    {
      "cell_type": "code",
      "execution_count": 9,
      "metadata": {
        "id": "isdZAZ7blrg8"
      },
      "outputs": [],
      "source": [
        "with open('finetunegpt/main.py','w') as f:\n",
        "  f.write('''\n",
        "import os\n",
        "from flask import Flask, request, session, render_template\n",
        "import openai\n",
        "import secrets\n",
        "\n",
        "with open('api_key.txt') as f:\n",
        "  api_key = f.read()\n",
        "openai.api_key = api_key\n",
        "os.environ['OPENAI_API_KEY'] = openai.api_key\n",
        "\n",
        "app = Flask(__name__)\n",
        "app.secret_key = secrets.token_hex(16)\n",
        "\n",
        "@app.route(\"/\", methods=['GET', 'POST'])\n",
        "def hello_world():\n",
        "    if request.method == 'POST':\n",
        "        user_input = request.form['user_input']\n",
        "        chat_log = session.get('chat_log', [['','']])\n",
        "        chat_log.extend([['user',user_input]])\n",
        "        response = openai.Completion.create(\n",
        "            model=\"ada:ft-personal:personality-2023-05-23-16-30-52\",\n",
        "            prompt=user_input,\n",
        "            temperature=0.7,\n",
        "            max_tokens=256,\n",
        "            top_p=1,\n",
        "            frequency_penalty=0,\n",
        "            presence_penalty=0,\n",
        "            stop=[\"END\"]\n",
        "        )\n",
        "        chat_log.extend([['gpt',response['choices'][0]['text']]])\n",
        "        session['chat_log'] = chat_log\n",
        "    else:\n",
        "        session['chat_log'] = [['','']]\n",
        "    return render_template('index.html', chat_log=session['chat_log'])\n",
        "\n",
        "\n",
        "if __name__ == \"__main__\":\n",
        "    app.run(debug=True, host=\"0.0.0.0\", port=int(os.environ.get(\"PORT\", 8080)))\n",
        "  ''')"
      ]
    },
    {
      "cell_type": "markdown",
      "source": [
        "# Creating the HTML Template for the Fine-tune GPT Web Interface"
      ],
      "metadata": {
        "id": "6vyheVkqnRl4"
      }
    },
    {
      "cell_type": "markdown",
      "source": [
        "The code creates an HTML template that serves as the interface for the Fine-tune GPT model."
      ],
      "metadata": {
        "id": "jDq7XKCbnUQS"
      }
    },
    {
      "cell_type": "code",
      "execution_count": 10,
      "metadata": {
        "id": "cEY8sqdwqp-S"
      },
      "outputs": [],
      "source": [
        "!mkdir finetunegpt/templates"
      ]
    },
    {
      "cell_type": "code",
      "execution_count": 11,
      "metadata": {
        "id": "sh1xHyouqdJ_"
      },
      "outputs": [],
      "source": [
        "with open('finetunegpt/templates/index.html','w') as f:\n",
        "  f.write('''\n",
        "<!doctype html>\n",
        "<html>\n",
        "  <head>\n",
        "    <title>Fine Tune GPT</title>\n",
        "  </head>\n",
        "  <body>\n",
        "    <h1>Welcome! </h1>\n",
        "    <p> This is a showcase of the results from my first Fine-tuned GPT project.</p><br>\n",
        "    <p> The Fine-tuned GPT model is capable of generating descriptions based on prompts such as Age Description, Gender, and Personality. \n",
        "    However, please note that for this demonstration, a more cost-effective model named Ada is being utilized, which may result in responses of lower quality</p><br>\n",
        "    <p>Example: Young, Man, Energetic-></p>\n",
        "    <form method=\"POST\" action=\"/\">\n",
        "      <input style='width:550px' type=\"text\" name=\"user_input\">\n",
        "      <button style='width:50px' type=\"submit\">Send</button>\n",
        "    </form>\n",
        "    {% for i in chat_log %}\n",
        "      {% if i[0]=='user' %}\n",
        "      <p style='width:600px'><em>{{i[1]}}</em></p>\n",
        "      {% else %}\n",
        "      <p style='width:600px'>{{i[1]}}</p>\n",
        "      {% endif %}\n",
        "    {% endfor %}\n",
        "    <p>For detail coding, please check out my github:</p>\n",
        "    <a href=\"https://github.com/Anson3208/Fine-Tune-GPT\">https://github.com/Anson3208/Fine-Tune-GPT</a>\n",
        "  </body>\n",
        "</html>\n",
        "  ''')"
      ]
    },
    {
      "cell_type": "code",
      "execution_count": 12,
      "metadata": {
        "id": "beCnUu3FmRCC",
        "colab": {
          "base_uri": "https://localhost:8080/"
        },
        "outputId": "88fc08f2-ab17-40b3-8a2d-d9c9aaa9137b"
      },
      "outputs": [
        {
          "output_type": "stream",
          "name": "stdout",
          "text": [
            "Deploying from source. To deploy a container use [--image]. See https://cloud.google.com/run/docs/deploying-source-code for more details.\n",
            "Source code location (/content):  finetunegpt\n",
            "Next time, use `gcloud run deploy --source .` to deploy the current directory.\n",
            "\n",
            "Service name (finetunegpt):  finetunegpt\n",
            "Please specify a region:\n",
            " [1] asia-east1\n",
            " [2] asia-east2\n",
            " [3] asia-northeast1\n",
            " [4] asia-northeast2\n",
            " [5] asia-northeast3\n",
            " [6] asia-south1\n",
            " [7] asia-south2\n",
            " [8] asia-southeast1\n",
            " [9] asia-southeast2\n",
            " [10] australia-southeast1\n",
            " [11] australia-southeast2\n",
            " [12] europe-central2\n",
            " [13] europe-north1\n",
            " [14] europe-southwest1\n",
            " [15] europe-west1\n",
            " [16] europe-west12\n",
            " [17] europe-west2\n",
            " [18] europe-west3\n",
            " [19] europe-west4\n",
            " [20] europe-west6\n",
            " [21] europe-west8\n",
            " [22] europe-west9\n",
            " [23] me-central1\n",
            " [24] me-west1\n",
            " [25] northamerica-northeast1\n",
            " [26] northamerica-northeast2\n",
            " [27] southamerica-east1\n",
            " [28] southamerica-west1\n",
            " [29] us-central1\n",
            " [30] us-east1\n",
            " [31] us-east4\n",
            " [32] us-east5\n",
            " [33] us-south1\n",
            " [34] us-west1\n",
            " [35] us-west2\n",
            " [36] us-west3\n",
            " [37] us-west4\n",
            " [38] cancel\n",
            "Please enter numeric choice or text value (must exactly match list item):  29\n",
            "\n",
            "To make this the default region, run `gcloud config set run/region us-central1`.\n",
            "\n",
            "This command is equivalent to running `gcloud builds submit --tag [IMAGE] finetunegpt` and `gcloud run deploy finetunegpt --image [IMAGE]`\n",
            "\n",
            "Building using Dockerfile and deploying container to Cloud Run service [\u001b[1mfinetunegpt\u001b[m] in project [\u001b[1mmy-project-anson-382915\u001b[m] region [\u001b[1mus-central1\u001b[m]\n",
            "Service [\u001b[1mfinetunegpt\u001b[m] revision [\u001b[1mfinetunegpt-00010-bev\u001b[m] has been deployed and is serving \u001b[1m100\u001b[m percent of traffic.\n",
            "Service URL: \u001b[1mhttps://finetunegpt-32ppsg3eva-uc.a.run.app\u001b[m\n"
          ]
        }
      ],
      "source": [
        "!gcloud run deploy"
      ]
    }
  ],
  "metadata": {
    "colab": {
      "provenance": [],
      "include_colab_link": true
    },
    "kernelspec": {
      "display_name": "Python 3",
      "name": "python3"
    },
    "language_info": {
      "name": "python"
    }
  },
  "nbformat": 4,
  "nbformat_minor": 0
}